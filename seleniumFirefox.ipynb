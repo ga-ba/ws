import time
from bs4 import BeautifulSoup
from selenium import webdriver
from selenium.webdriver.common.keys import keys

# Specify the path to the chromedriver binary

url='https://www.filmweb.pl/ranking/film'
FFdriver = "/Users/ws/bin/geckodriver"
driver = webdriver.Firefox(FFdriver)


driver.get(url)
driver.maximize_window()
time.sleep(2)
driver.find_element_by_xpath('//*[@id="didomi-notice-agree-button"]').click()

# na html wysylamy nacisniecie klawisza
html=driver.find_element(By.TAG_NAME,'html')

# wyk END,PAGEUP aż pojawi sie pozycja 500 w tab
while True:
  print(rozmiar_strony,end=' ')
  html.send_keys(Keys.END)
  html.send_keys(Keys.PAGE_UP)
  #time.sleep(1)
  zupa=BeautifulSoup(r.content, 'html5lib')
  if zupa.find('span', attrs={'class':'rankingType position','itemprop':'position'},string=re.compile(r'\s*500\s*')):
    break

'Piąty element' in driver.page_source

driver.quit()
