# More info at http://code.google.com/p/selenium/wiki/ChromeDriver

from selenium import webdriver

# You have two choices:
# 1) Make sure the chromedriver binary is on your PATH
#    For OS X:
#    a) Put chromedriver in /Users/<your-username>/bin
#    b) Add the following to ~/.bash_profile
#       PATH="${HOME}/bin:${PATH}"
#        export PATH 
driver = webdriver.Chrome()

# or

# 2) Specify the path to the chromedriver binary
chromedriver = "/Users/ws/bin/chromedriver"
driver = webdriver.Chrome(chromedriver)
