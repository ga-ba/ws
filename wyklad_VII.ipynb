{
 "cells": [
  {
   "cell_type": "markdown",
   "metadata": {
    "slideshow": {
     "slide_type": "slide"
    }
   },
   "source": [
    "# Automatyczne pozyskiwanie danych (AD) 2\n",
    "\n",
    "## Tomasz Rodak\n",
    "\n",
    "2020/2021, semestr letni\n",
    "\n",
    "Wykład VII\n",
    "\n",
    "---\n",
    "\n",
    "# [Selenium](https://www.selenium.dev/)\n",
    "\n",
    "Framework automatyzujący przeglądarkę - [dokumentacja](https://www.selenium.dev/documentation/en/)\n",
    "\n",
    "\n",
    "### [WebDriver](https://www.selenium.dev/documentation/en/getting_started_with_webdriver/) \n",
    "\n",
    "-- interfejs do kontroli przeglądarki.\n",
    "\n",
    "### [Składowe](https://www.selenium.dev/documentation/en/webdriver/understanding_the_components/):\n",
    "\n",
    "* API - zestaw instrukcji dla interfejsu WebDriver;\n",
    "* Biblioteka - specyficzna dla danego języka programowania (np. dla Pythona) nadbudowa nad API;\n",
    "* Driver - aplikacja pośrednicząca w komunikacji między WebDriver a przeglądarką, specyficzna dla przeglądarki;\n",
    "* Framework - dodatkowa biblioteka do tworzenia testów."
   ]
  },
  {
   "cell_type": "markdown",
   "metadata": {},
   "source": [
    "### Instalacja biblioteki\n",
    "\n",
    "Przykład instalacji w środowisku wirtualnym za pomocą mechanizmu `conda`.\n",
    "\n",
    "Utworzenie środowiska wirtualnego:\n",
    "\n",
    "```\n",
    "$ conda create --name selenium python=3.9\n",
    "```\n",
    "\n",
    "Aktywacja:\n",
    "\n",
    "```\n",
    "$ conda activate selenium\n",
    "```\n",
    "\n",
    "Poszukiwanie biblioteki:\n",
    "\n",
    "```\n",
    "$ conda search selenium\n",
    "```\n",
    "\n",
    "Instalacja:\n",
    "\n",
    "```\n",
    "$ conda install selenium\n",
    "```\n",
    "\n",
    "Test instalacji. Powiodła się jeżeli `import` nie rzuca wyjątku:\n",
    "\n",
    "```\n",
    "$ python\n",
    "Python 3.7.10 (default, Feb 26 2021, 18:47:35) \n",
    "[GCC 7.3.0] :: Anaconda, Inc. on linux\n",
    "Type \"help\", \"copyright\", \"credits\" or \"license\" for more information.\n",
    ">>> import selenium\n",
    ">>>\n",
    "```\n",
    "\n",
    "Analogicznie zainstaluj inne wymagane komponenty, jak `jupyter`, `BeautifulSoup`, `requests` itp."
   ]
  },
  {
   "cell_type": "markdown",
   "metadata": {
    "slideshow": {
     "slide_type": "slide"
    }
   },
   "source": [
    "### [Driver](https://www.selenium.dev/documentation/en/webdriver/driver_requirements/) \n",
    "\n",
    "-- instalacja sprowadza się do rozpakowania aplikacji na dysk i ewentualnym dostosowaniu ścieżki.\n",
    "\n",
    "#### Przykład dla przeglądarki Firefox\n",
    "\n",
    "Otworzenie kanału komunikacji między przeglądarką a interfejsem WebDriver: "
   ]
  },
  {
   "cell_type": "code",
   "execution_count": null,
   "metadata": {},
   "outputs": [],
   "source": [
    "from selenium import webdriver\n",
    "\n",
    "driver = webdriver.Firefox(executable_path='/home/tomek/bin/geckodriver')"
   ]
  },
  {
   "cell_type": "markdown",
   "metadata": {},
   "source": [
    "Polecenie wejścia na stronę:"
   ]
  },
  {
   "cell_type": "code",
   "execution_count": 3,
   "metadata": {},
   "outputs": [],
   "source": [
    "driver.get('http://math.uni.lodz.pl')"
   ]
  },
  {
   "cell_type": "markdown",
   "metadata": {},
   "source": [
    "Zamknięcie kanału:"
   ]
  },
  {
   "cell_type": "code",
   "execution_count": 6,
   "metadata": {},
   "outputs": [],
   "source": [
    "driver.quit()"
   ]
  },
  {
   "cell_type": "markdown",
   "metadata": {},
   "source": [
    "### [Nawigacja w przeglądarce](https://www.selenium.dev/documentation/en/webdriver/browser_manipulation/)\n",
    "\n",
    "Przetestuj sterowanie przeglądarką."
   ]
  },
  {
   "cell_type": "markdown",
   "metadata": {},
   "source": [
    "### [Wyszukiwanie elementów](https://www.selenium.dev/documentation/en/webdriver/locating_elements/)"
   ]
  },
  {
   "cell_type": "markdown",
   "metadata": {},
   "source": [
    "### [Strategie opóźniające](https://www.selenium.dev/documentation/en/webdriver/waits/)"
   ]
  }
 ],
 "metadata": {
  "anaconda-cloud": {},
  "kernelspec": {
   "display_name": "Python 3",
   "language": "python",
   "name": "python3"
  },
  "language_info": {
   "codemirror_mode": {
    "name": "ipython",
    "version": 3
   },
   "file_extension": ".py",
   "mimetype": "text/x-python",
   "name": "python",
   "nbconvert_exporter": "python",
   "pygments_lexer": "ipython3",
   "version": "3.7.10"
  }
 },
 "nbformat": 4,
 "nbformat_minor": 2
}
